{
 "cells": [
  {
   "cell_type": "code",
   "execution_count": 1,
   "metadata": {},
   "outputs": [],
   "source": [
    "import sklearn.datasets\n",
    "import urllib.request\n",
    "from typing import Callable\n",
    "\n",
    "import os\n",
    "import numpy as np\n",
    "from typing import Callable\n",
    "\n",
    "from proxskip.data import DataLoader\n",
    "from proxskip.types import ProximityOperator, Vector\n",
    "from proxskip.model import Model\n",
    "from proxskip.loss import LossFunction\n",
    "from proxskip.optimizer import ProxSkip\n"
   ]
  },
  {
   "cell_type": "code",
   "execution_count": 2,
   "metadata": {},
   "outputs": [],
   "source": [
    "w8a_url = \"https://www.csie.ntu.edu.tw/~cjlin/libsvmtools/datasets/binary/w8a\"\n",
    "\n",
    "data_path = './w8a'\n",
    "if not os.path.exists(data_path):\n",
    "    f = urllib.request.urlretrieve(w8a_url, data_path)\n",
    "A, b = sklearn.datasets.load_svmlight_file(data_path)"
   ]
  },
  {
   "cell_type": "code",
   "execution_count": 3,
   "metadata": {},
   "outputs": [],
   "source": [
    "class ConsesusProx(ProximityOperator):\n",
    "    def __call__(\n",
    "        self,\n",
    "        x: Vector,\n",
    "        state: dict\n",
    "    ):\n",
    "        x_h_tp1 = state['x_h_tp1']\n",
    "        avg_weight = np.zeros(shape=x_h_tp1[0].shape)\n",
    "\n",
    "        for local_weight in x_h_tp1: \n",
    "            avg_weight += local_weight\n",
    "\n",
    "        avg_weight /= len(x_h_tp1)\n",
    "        return avg_weight\n",
    "\n",
    "prox = ConsesusProx()"
   ]
  },
  {
   "cell_type": "code",
   "execution_count": 4,
   "metadata": {},
   "outputs": [],
   "source": [
    "np.random.seed(705)"
   ]
  },
  {
   "cell_type": "code",
   "execution_count": 5,
   "metadata": {},
   "outputs": [],
   "source": [
    "from proxskip.types import Vector\n",
    "\n",
    "\n",
    "class W8ALinearModel(Model):\n",
    "    def __init__(self, num_features: int, lambda_, weights=None):\n",
    "        self.num_features = num_features\n",
    "        if weights is None:\n",
    "            self.weights = np.random.rand(num_features, 1)\n",
    "        else:\n",
    "            self.weights = weights.copy()\n",
    "        self.lambda_ = lambda_\n",
    "        \n",
    "    def forward(self, x: Vector) -> Vector:\n",
    "        \"\"\"Forward pass of the model.\n",
    "        \n",
    "        Args:\n",
    "            x: Input vector. Shape (batch_size, num_features).\n",
    "            \n",
    "        Returns:\n",
    "            Output vector. Shape (batch_size, 1).\n",
    "        \"\"\"\n",
    "        if x.ndim == 1:\n",
    "            x = x.reshape(-1, 1)\n",
    "        assert x.shape[1] == self.num_features, \\\n",
    "            f\"Input shape does not match expected shape. {x.shape[1]} != {self.num_features}\"\n",
    "\n",
    "        # (B, N) x (N, 1) - > (B, 1)\n",
    "        output = x @ self.weights\n",
    "        if output.ndim == 1:\n",
    "            output = output.reshape(-1, 1)\n",
    "\n",
    "        assert output.shape == (x.shape[0], 1), \\\n",
    "            f\"Output shape does not match expected shape. {output.shape} != {(x.shape[0], 1)}\"\n",
    "            \n",
    "        return output\n",
    "    \n",
    "    def backward(self, x: Vector, upstream: Vector) -> Vector:\n",
    "        \"\"\"Backward pass of the model.\n",
    "        \n",
    "        Args:\n",
    "            x: Input vector. Shape (batch_size, num_features).\n",
    "            upstream: Upstream gradient. Shape (batch_size, 1).\n",
    "            \n",
    "        Returns:\n",
    "            Gradient with respect to the input. Shape (batch_size, num_features).\n",
    "        \"\"\"\n",
    "        output = self.forward(x)\n",
    "        assert upstream.shape == output.shape, \\\n",
    "            f\"Upstream gradient shape does not match output shape. {upstream.shape} != {output.shape}\"\n",
    "            \n",
    "        grad = x.T @ upstream\n",
    "        assert grad.shape == self.weights.shape, \\\n",
    "            f\"Gradient shape does not match weights shape. {grad.shape} != {self.weights.shape}\"\n",
    "            \n",
    "        return grad + self.lambda_ * self.params()\n",
    "        \n",
    "        # return self.weights @ upstream.T  + self.lambda_ * self.params()\n",
    "    \n",
    "    def params(self) -> Vector:\n",
    "        return self.weights\n",
    "    \n",
    "    def update(self, params: Vector) -> None:\n",
    "        self.weights = params"
   ]
  },
  {
   "cell_type": "code",
   "execution_count": 6,
   "metadata": {},
   "outputs": [],
   "source": [
    "from proxskip.types import Vector\n",
    "\n",
    "\n",
    "class SliceDataset(DataLoader):\n",
    "    def __init__(self, A, b):\n",
    "        self.X = A.toarray()\n",
    "        self.y = b\n",
    "        self.L = (np.linalg.norm(self.X, axis=1) ** 2).mean() / 4\n",
    "    \n",
    "    def get(self) -> tuple[Vector, Vector]:\n",
    "        return self.X, self.y\n",
    "    \n",
    "    def total_size(self) -> int:\n",
    "        return self.X.shape[0]\n",
    "    \n",
    "    def get_data(self) -> tuple[Vector, Vector]:\n",
    "        return self.get()"
   ]
  },
  {
   "cell_type": "code",
   "execution_count": 7,
   "metadata": {},
   "outputs": [],
   "source": [
    "from proxskip.model import Model\n",
    "from proxskip.types import Vector\n",
    "\n",
    "class LogisticLoss(LossFunction):\n",
    "    def __init__(self, lambda_) -> None:\n",
    "        super().__init__()\n",
    "        self.lambda_ = lambda_\n",
    "        \n",
    "    def upstream_gradient(self, m: Model, X: Vector, y: Vector) -> Vector:\n",
    "        y_hat = m.forward(X)\n",
    "        if y.ndim == 1:\n",
    "            y = y[:, None]\n",
    "        s = np.exp(y * y_hat)\n",
    "        return (-y / (1 + s)) / y.shape[0]\n",
    "            \n",
    "    def loss(self, m: Model, X: Vector, y: Vector) -> Vector:\n",
    "        if y.ndim == 1:\n",
    "            y = y[:, None]\n",
    "        y_hat = m.forward(X)\n",
    "        s = np.exp(-y * y_hat)\n",
    "        return np.log(1 + s).mean() + (self.lambda_ / 2) * m.params().T @ m.params()\n"
   ]
  },
  {
   "cell_type": "code",
   "execution_count": 8,
   "metadata": {},
   "outputs": [],
   "source": [
    "num_devices = 16\n",
    "\n",
    "Ad = [A[i::num_devices] for i in range(num_devices)]\n",
    "bd = [b[i::num_devices] for i in range(num_devices)]\n",
    "\n",
    "min_size = min([A.shape[0] for A in Ad])\n",
    "Ad = [A[:min_size] for A in Ad]\n",
    "bd = [b[:min_size] for b in bd]"
   ]
  },
  {
   "cell_type": "code",
   "execution_count": 18,
   "metadata": {},
   "outputs": [],
   "source": [
    "dataloaders = [SliceDataset(Ad[i], bd[i]) for i in range(num_devices)]\n",
    "L = np.max(np.array([dataloader.L for dataloader in dataloaders]))\n",
    "lambda_ = L / 1000\n",
    "L = L + lambda_\n",
    "num_iterations = 5 * 10**3\n",
    "comminucation_rate = 50\n",
    "comminication_rounds = num_iterations // comminucation_rate\n",
    "p = 1 / (10 * np.sqrt(10))\n",
    "w0 = [np.random.rand(Ad[i].shape[1], 1) for i in range(num_devices)]"
   ]
  },
  {
   "cell_type": "code",
   "execution_count": 19,
   "metadata": {},
   "outputs": [],
   "source": [
    "import os\n",
    "import pickle\n",
    "from scipy.optimize import minimize\n",
    "\n",
    "if not os.path.exists('true_min.pkl'):\n",
    "    # Finding true minimum to compare with\n",
    "    def loss(w):\n",
    "        return LogisticLoss(lambda_).loss(W8ALinearModel(A.shape[1], lambda_, w), A, b)\n",
    "\n",
    "    res = minimize(loss, np.random.rand(A.shape[1]), method='BFGS', tol=1e-6)\n",
    "    true_min = res.fun\n",
    "    pickle.dump(true_min, open('true_min.pkl', 'wb'))\n",
    "    print(res)\n",
    "else:\n",
    "    with open('true_min.pkl', 'rb') as f:\n",
    "        true_min = pickle.load(f)\n"
   ]
  },
  {
   "cell_type": "code",
   "execution_count": 20,
   "metadata": {},
   "outputs": [
    {
     "name": "stdout",
     "output_type": "stream",
     "text": [
      "l0_avg: 5.999348423381236\n"
     ]
    }
   ],
   "source": [
    "models = [\n",
    "    W8ALinearModel(Ad[i].shape[1], lambda_, w0[i]) for i in range(num_devices)\n",
    "]\n",
    "\n",
    "loss_fn = LogisticLoss(lambda_)\n",
    "l0_avg = np.mean([loss_fn.loss(models[i], *dataloaders[i].get()) for i in range(num_devices)])\n",
    "print(f\"l0_avg: {l0_avg}\")\n",
    "\n",
    "\n",
    "ps_optimizer = ProxSkip(\n",
    "    models=models,\n",
    "    dataloaders=dataloaders,\n",
    "    loss=loss_fn,\n",
    "    prox=ConsesusProx(),\n",
    "    num_iterations=num_iterations ** 2, # to have `comminication_rounds` of loss values\n",
    "    learning_rate=1 / L,\n",
    "    p=p,\n",
    ")"
   ]
  },
  {
   "cell_type": "code",
   "execution_count": 21,
   "metadata": {},
   "outputs": [
    {
     "name": "stderr",
     "output_type": "stream",
     "text": [
      "  0%|          | 0/100 [00:00<?, ?it/s]/tmp/ipykernel_322083/132875450.py:13: RuntimeWarning: overflow encountered in exp\n",
      "  s = np.exp(y * y_hat)\n",
      "loss=0.2139: 100%|██████████| 100/100 [00:50<00:00,  1.67it/s]"
     ]
    }
   ],
   "source": [
    "from tqdm import trange\n",
    "\n",
    "progress = trange(comminication_rounds)\n",
    "c = 0\n",
    "while True:\n",
    "    on_prox = ps_optimizer.step()\n",
    "    if on_prox is None or c == comminication_rounds:\n",
    "        break\n",
    "    if on_prox:\n",
    "        progress.set_description(f\"loss={ps_optimizer._step['loss'][-1].item():.4f}\")\n",
    "        progress.update(1)\n",
    "        c += 1\n",
    "        "
   ]
  },
  {
   "cell_type": "code",
   "execution_count": 27,
   "metadata": {},
   "outputs": [
    {
     "data": {
      "text/plain": [
       "[<matplotlib.lines.Line2D at 0x7f9428942250>]"
      ]
     },
     "execution_count": 27,
     "metadata": {},
     "output_type": "execute_result"
    },
    {
     "data": {
      "image/png": "[encoded data removed]",
      "text/plain": [
       "<Figure size 640x480 with 1 Axes>"
      ]
     },
     "metadata": {},
     "output_type": "display_data"
    }
   ],
   "source": [
    "import matplotlib.pyplot as plt\n",
    "\n",
    "proxskip_criterion = [np.array([[l0_avg - true_min]])] + [x - true_min for x in ps_optimizer._step['loss']]\n",
    "plt.yscale('log')\n",
    "plt.plot([x[0] for x in proxskip_criterion])"
   ]
  },
  {
   "cell_type": "code",
   "execution_count": 23,
   "metadata": {},
   "outputs": [],
   "source": [
    "from proxskip.optimizer import LocalGD\n",
    "\n",
    "lgd_optimizer = LocalGD(\n",
    "    models=[W8ALinearModel(Ad[i].shape[1], lambda_, w0[i]) for i in range(num_devices)],\n",
    "    dataloaders=dataloaders,\n",
    "    loss=LogisticLoss(lambda_),\n",
    "    num_iterations=num_iterations,\n",
    "    learning_rate=1 / L,\n",
    "    communication_rate=comminucation_rate,\n",
    ")"
   ]
  },
  {
   "cell_type": "code",
   "execution_count": 24,
   "metadata": {},
   "outputs": [
    {
     "data": {
      "text/plain": [
       "<module 'proxskip.data' from '/home/ayhem18/DEV/ProxSkip/proxskip/data.py'>"
      ]
     },
     "execution_count": 24,
     "metadata": {},
     "output_type": "execute_result"
    }
   ],
   "source": [
    "import proxskip.data as prd\n",
    "import importlib \n",
    "importlib.reload(prd)"
   ]
  },
  {
   "cell_type": "code",
   "execution_count": 26,
   "metadata": {},
   "outputs": [
    {
     "name": "stderr",
     "output_type": "stream",
     "text": [
      "loss=0.2137:  80%|███████▉  | 3995/5000 [01:13<00:18, 54.65it/s]\n"
     ]
    }
   ],
   "source": [
    "from tqdm import trange\n",
    "\n",
    "progress = trange(num_iterations)\n",
    "\n",
    "for _ in progress:\n",
    "    on_prox = lgd_optimizer.step()\n",
    "    if on_prox is None:\n",
    "        break\n",
    "    if on_prox:\n",
    "        progress.set_description(f\"loss={lgd_optimizer._step['loss'][-1].item():.4f}\")"
   ]
  },
  {
   "cell_type": "code",
   "execution_count": null,
   "metadata": {},
   "outputs": [],
   "source": [
    "lgd_steps = [np.array([[l0_avg - true_min]])] + [x - true_min for x in lgd_optimizer._step['loss']]"
   ]
  },
  {
   "cell_type": "code",
   "execution_count": 28,
   "metadata": {},
   "outputs": [
    {
     "data": {
      "text/plain": [
       "(array([[5.84023674]]), array([[5.8353322]]))"
      ]
     },
     "execution_count": 28,
     "metadata": {},
     "output_type": "execute_result"
    }
   ],
   "source": [
    "proxskip_criterion[0], lgd_steps[0]"
   ]
  },
  {
   "cell_type": "code",
   "execution_count": 29,
   "metadata": {},
   "outputs": [
    {
     "data": {
      "text/plain": [
       "(0.0547941082369619, array([[0.05479411]]))"
      ]
     },
     "execution_count": 29,
     "metadata": {},
     "output_type": "execute_result"
    }
   ],
   "source": [
    "np.min(proxskip_criterion), proxskip_criterion[-1]"
   ]
  },
  {
   "cell_type": "code",
   "execution_count": 30,
   "metadata": {},
   "outputs": [
    {
     "data": {
      "text/plain": [
       "Text(0, 0.5, 'Loss')"
      ]
     },
     "execution_count": 30,
     "metadata": {},
     "output_type": "execute_result"
    },
    {
     "data": {
      "image/png": "[encoded data removed]",
      "text/plain": [
       "<Figure size 640x480 with 1 Axes>"
      ]
     },
     "metadata": {},
     "output_type": "display_data"
    }
   ],
   "source": [
    "plt.plot([x[0] for x in proxskip_criterion])\n",
    "plt.plot([x[0] for x in lgd_steps])\n",
    "plt.legend(['ProxSkip', 'LocalGD'])\n",
    "plt.yscale('log')\n",
    "# plt.xscale('log')\n",
    "plt.xlabel('Communication Rounds')\n",
    "plt.ylabel('Loss')"
   ]
  },
  {
   "cell_type": "code",
   "execution_count": null,
   "metadata": {},
   "outputs": [],
   "source": []
  }
 ],
 "metadata": {
  "kernelspec": {
   "display_name": "uni",
   "language": "python",
   "name": "python3"
  },
  "language_info": {
   "codemirror_mode": {
    "name": "ipython",
    "version": 3
   },
   "file_extension": ".py",
   "mimetype": "text/x-python",
   "name": "python",
   "nbconvert_exporter": "python",
   "pygments_lexer": "ipython3",
   "version": "3.11.5"
  },
  "orig_nbformat": 4
 },
 "nbformat": 4,
 "nbformat_minor": 2
}
