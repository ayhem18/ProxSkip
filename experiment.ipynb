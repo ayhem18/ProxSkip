{
 "cells": [
  {
   "cell_type": "code",
   "execution_count": 2,
   "metadata": {},
   "outputs": [],
   "source": [
    "import sklearn.datasets\n",
    "import urllib.request\n",
    "from typing import Callable\n",
    "\n",
    "import numpy as np\n",
    "from proxskip.types import ProximityOperator, Vector, Function, Session\n",
    "from proxskip.algorithm import Algorithm"
   ]
  },
  {
   "cell_type": "code",
   "execution_count": 3,
   "metadata": {},
   "outputs": [],
   "source": [
    "w8a_url = \"https://www.csie.ntu.edu.tw/~cjlin/libsvmtools/datasets/binary/w8a\"\n",
    "\n",
    "data_path = './w8a'\n",
    "f = urllib.request.urlretrieve(w8a_url, data_path)\n",
    "# f = urllib.request.urlretrieve(a9a_url, data_path)\n",
    "A, b = sklearn.datasets.load_svmlight_file(data_path)"
   ]
  },
  {
   "cell_type": "code",
   "execution_count": 4,
   "metadata": {},
   "outputs": [
    {
     "data": {
      "text/plain": [
       "((49749, 300), (49749,))"
      ]
     },
     "execution_count": 4,
     "metadata": {},
     "output_type": "execute_result"
    }
   ],
   "source": [
    "A.shape, b.shape"
   ]
  },
  {
   "cell_type": "code",
   "execution_count": 7,
   "metadata": {},
   "outputs": [
    {
     "data": {
      "text/plain": [
       "2.9125510060503728"
      ]
     },
     "execution_count": 7,
     "metadata": {},
     "output_type": "execute_result"
    }
   ],
   "source": [
    "norm_sum_ = np.zeros_like(*A.shape[1:], dtype=np.float32)\n",
    "for i in range(A.shape[0]):\n",
    "    norm_sum_ += np.linalg.norm(A[i].toarray()) ** 2\n",
    "norm_sum = norm_sum_ / A.shape[0] / 4\n",
    "norm_sum"
   ]
  },
  {
   "cell_type": "code",
   "execution_count": 8,
   "metadata": {},
   "outputs": [],
   "source": [
    "class DistrubutedLogisticRegression(Function):\n",
    "    def __init__(self, X, y, lambda_: float, num_devices: int):\n",
    "        self.X = X\n",
    "        self.y = y\n",
    "        self.lambda_ = lambda_\n",
    "        self.n, self.d = X.shape\n",
    "        self.num_devices = num_devices\n",
    "        \n",
    "        self.Xs = np.split(self.X, self.num_devices)\n",
    "        self.ys = np.split(self.y, self.num_devices)\n",
    "        self.ns = [X.shape[0] for X in self.Xs]\n",
    "        self.ds = [X.shape[1] for X in self.Xs]\n",
    "        \n",
    "        self.L = []\n",
    "        for device in range(self.num_devices):\n",
    "            sum_ = np.zeros_like(self.Xs[device].shape[1:], dtype=np.float32)\n",
    "            for i in range(self.ns[device]):\n",
    "                sum_ += np.linalg.norm(self.Xs[device][i].toarray()) ** 2\n",
    "            self.L.append(sum_ / self.ns[device] / 4)\n",
    "            \n",
    "        self.L = np.array(self.L)\n",
    "            \n",
    "        self.ws = []\n",
    "    "
   ]
  },
  {
   "cell_type": "code",
   "execution_count": 9,
   "metadata": {},
   "outputs": [],
   "source": [
    "class L1Norm(ProximityOperator):\n",
    "    def __call__(\n",
    "        self, \n",
    "        x: Vector, \n",
    "        gamma: Vector = None, \n",
    "        ksi: Callable[[Vector], Vector] = None\n",
    "    ):\n",
    "        u = np.full_like(x, -gamma + 2 * np.random.rand() * gamma)\n",
    "        u[x > gamma] = x[x > gamma] - gamma\n",
    "        u[x < -gamma] = x[x < -gamma] + gamma\n",
    "        "
   ]
  },
  {
   "cell_type": "code",
   "execution_count": 10,
   "metadata": {},
   "outputs": [
    {
     "ename": "ValueError",
     "evalue": "dimension mismatch",
     "output_type": "error",
     "traceback": [
      "\u001b[0;31m---------------------------------------------------------------------------\u001b[0m",
      "\u001b[0;31mValueError\u001b[0m                                Traceback (most recent call last)",
      "Cell \u001b[0;32mIn[10], line 19\u001b[0m\n\u001b[1;32m      8\u001b[0m al\u001b[39m.\u001b[39mnew_session(\n\u001b[1;32m      9\u001b[0m     Session(\n\u001b[1;32m     10\u001b[0m         num_iterations\u001b[39m=\u001b[39m\u001b[39m100000\u001b[39m,\n\u001b[0;32m   (...)\u001b[0m\n\u001b[1;32m     15\u001b[0m     )\n\u001b[1;32m     16\u001b[0m )\n\u001b[1;32m     18\u001b[0m MSE \u001b[39m=\u001b[39m []\n\u001b[0;32m---> 19\u001b[0m \u001b[39mwhile\u001b[39;00m (x \u001b[39m:=\u001b[39m al\u001b[39m.\u001b[39;49mstep()):\n\u001b[1;32m     20\u001b[0m     al\u001b[39m.\u001b[39mupdate(\u001b[39m*\u001b[39mx)\n\u001b[1;32m     21\u001b[0m     MSE\u001b[39m.\u001b[39mappend(((al\u001b[39m.\u001b[39m_parameters \u001b[39m*\u001b[39m fn\u001b[39m.\u001b[39mX \u001b[39m-\u001b[39m fn\u001b[39m.\u001b[39my) \u001b[39m*\u001b[39m\u001b[39m*\u001b[39m \u001b[39m2\u001b[39m)\u001b[39m.\u001b[39mmean())\n",
      "File \u001b[0;32m~/uni/opt/ProxSkip/proxskip/algorithm.py:53\u001b[0m, in \u001b[0;36mAlgorithm.step\u001b[0;34m(self)\u001b[0m\n\u001b[1;32m     50\u001b[0m gamma \u001b[39m=\u001b[39m \u001b[39mself\u001b[39m\u001b[39m.\u001b[39m_session\u001b[39m.\u001b[39mstep_size\n\u001b[1;32m     52\u001b[0m \u001b[39m# \\hat x_{t + 1}\u001b[39;00m\n\u001b[0;32m---> 53\u001b[0m x_h_tp1 \u001b[39m=\u001b[39m x_t \u001b[39m-\u001b[39m gamma \u001b[39m*\u001b[39m (\u001b[39mself\u001b[39;49m\u001b[39m.\u001b[39;49m_nf(x_t) \u001b[39m-\u001b[39m h_t)\n\u001b[1;32m     55\u001b[0m x_tp1 \u001b[39m=\u001b[39m \u001b[39mNone\u001b[39;00m \u001b[39m# x_{t + 1}\u001b[39;00m\n\u001b[1;32m     56\u001b[0m h_tp1 \u001b[39m=\u001b[39m \u001b[39mNone\u001b[39;00m \u001b[39m# h_{t + 1}\u001b[39;00m\n",
      "Cell \u001b[0;32mIn[8], line 10\u001b[0m, in \u001b[0;36mLogisticRegression.__call__\u001b[0;34m(self, w)\u001b[0m\n\u001b[1;32m      8\u001b[0m \u001b[39mdef\u001b[39;00m \u001b[39m__call__\u001b[39m(\u001b[39mself\u001b[39m, w: Vector) \u001b[39m-\u001b[39m\u001b[39m>\u001b[39m \u001b[39mfloat\u001b[39m:\n\u001b[1;32m      9\u001b[0m     \u001b[39m# Differential of logistic loss\u001b[39;00m\n\u001b[0;32m---> 10\u001b[0m     \u001b[39mreturn\u001b[39;00m np\u001b[39m.\u001b[39msum(np\u001b[39m.\u001b[39mlog(\u001b[39m1\u001b[39m \u001b[39m+\u001b[39m np\u001b[39m.\u001b[39mexp(\u001b[39m-\u001b[39m\u001b[39mself\u001b[39m\u001b[39m.\u001b[39my \u001b[39m*\u001b[39m \u001b[39mself\u001b[39;49m\u001b[39m.\u001b[39;49mX\u001b[39m.\u001b[39;49mdot(w)))) \u001b[39m/\u001b[39m \u001b[39mself\u001b[39m\u001b[39m.\u001b[39mn\n",
      "File \u001b[0;32m~/miniconda3/envs/uni/lib/python3.10/site-packages/scipy/sparse/_base.py:411\u001b[0m, in \u001b[0;36m_spbase.dot\u001b[0;34m(self, other)\u001b[0m\n\u001b[1;32m    409\u001b[0m     \u001b[39mreturn\u001b[39;00m \u001b[39mself\u001b[39m \u001b[39m*\u001b[39m other\n\u001b[1;32m    410\u001b[0m \u001b[39melse\u001b[39;00m:\n\u001b[0;32m--> 411\u001b[0m     \u001b[39mreturn\u001b[39;00m \u001b[39mself\u001b[39;49m \u001b[39m@\u001b[39;49m other\n",
      "File \u001b[0;32m~/miniconda3/envs/uni/lib/python3.10/site-packages/scipy/sparse/_base.py:624\u001b[0m, in \u001b[0;36m_spbase.__matmul__\u001b[0;34m(self, other)\u001b[0m\n\u001b[1;32m    621\u001b[0m \u001b[39mif\u001b[39;00m isscalarlike(other):\n\u001b[1;32m    622\u001b[0m     \u001b[39mraise\u001b[39;00m \u001b[39mValueError\u001b[39;00m(\u001b[39m\"\u001b[39m\u001b[39mScalar operands are not allowed, \u001b[39m\u001b[39m\"\u001b[39m\n\u001b[1;32m    623\u001b[0m                      \u001b[39m\"\u001b[39m\u001b[39muse \u001b[39m\u001b[39m'\u001b[39m\u001b[39m*\u001b[39m\u001b[39m'\u001b[39m\u001b[39m instead\u001b[39m\u001b[39m\"\u001b[39m)\n\u001b[0;32m--> 624\u001b[0m \u001b[39mreturn\u001b[39;00m \u001b[39mself\u001b[39;49m\u001b[39m.\u001b[39;49m_mul_dispatch(other)\n",
      "File \u001b[0;32m~/miniconda3/envs/uni/lib/python3.10/site-packages/scipy/sparse/_base.py:553\u001b[0m, in \u001b[0;36m_spbase._mul_dispatch\u001b[0;34m(self, other)\u001b[0m\n\u001b[1;32m    550\u001b[0m \u001b[39mif\u001b[39;00m other\u001b[39m.\u001b[39mndim \u001b[39m==\u001b[39m \u001b[39m1\u001b[39m \u001b[39mor\u001b[39;00m other\u001b[39m.\u001b[39mndim \u001b[39m==\u001b[39m \u001b[39m2\u001b[39m \u001b[39mand\u001b[39;00m other\u001b[39m.\u001b[39mshape[\u001b[39m1\u001b[39m] \u001b[39m==\u001b[39m \u001b[39m1\u001b[39m:\n\u001b[1;32m    551\u001b[0m     \u001b[39m# dense row or column vector\u001b[39;00m\n\u001b[1;32m    552\u001b[0m     \u001b[39mif\u001b[39;00m other\u001b[39m.\u001b[39mshape \u001b[39m!=\u001b[39m (N,) \u001b[39mand\u001b[39;00m other\u001b[39m.\u001b[39mshape \u001b[39m!=\u001b[39m (N, \u001b[39m1\u001b[39m):\n\u001b[0;32m--> 553\u001b[0m         \u001b[39mraise\u001b[39;00m \u001b[39mValueError\u001b[39;00m(\u001b[39m'\u001b[39m\u001b[39mdimension mismatch\u001b[39m\u001b[39m'\u001b[39m)\n\u001b[1;32m    555\u001b[0m     result \u001b[39m=\u001b[39m \u001b[39mself\u001b[39m\u001b[39m.\u001b[39m_mul_vector(np\u001b[39m.\u001b[39mravel(other))\n\u001b[1;32m    557\u001b[0m     \u001b[39mif\u001b[39;00m \u001b[39misinstance\u001b[39m(other, np\u001b[39m.\u001b[39mmatrix):\n",
      "\u001b[0;31mValueError\u001b[0m: dimension mismatch"
     ]
    }
   ],
   "source": [
    "\n",
    "fn = DistrubutedLogisticRegression(A, b, 1000 / norm_sum_)\n",
    "prox = L1Norm()\n",
    "al = Algorithm(\n",
    "    fn,\n",
    "    prox\n",
    ")\n",
    "\n",
    "al.new_session(\n",
    "    Session(\n",
    "        num_iterations=100000,\n",
    "        step_size=0.0001,\n",
    "        probability=1/100,\n",
    "        x0=np.random.randn(20),\n",
    "        h0=np.random.randn(20)\n",
    "    )\n",
    ")\n",
    "\n",
    "losses = []\n",
    "while (x := al.step()):\n",
    "    al.update(*x)\n",
    "    losses.append(((al._parameters * fn.X - fn.y) ** 2).mean())"
   ]
  },
  {
   "cell_type": "code",
   "execution_count": 2,
   "metadata": {},
   "outputs": [
    {
     "data": {
      "text/plain": [
       "[<matplotlib.lines.Line2D at 0x7fadfd447940>]"
      ]
     },
     "execution_count": 2,
     "metadata": {},
     "output_type": "execute_result"
    },
    {
     "data": {
      "image/png": "[encoded data removed]",
      "text/plain": [
       "<Figure size 640x480 with 1 Axes>"
      ]
     },
     "metadata": {},
     "output_type": "display_data"
    }
   ],
   "source": [
    "import matplotlib.pyplot as plt\n",
    "\n",
    "\n",
    "plt.plot(MSE)"
   ]
  },
  {
   "cell_type": "code",
   "execution_count": 4,
   "metadata": {},
   "outputs": [
    {
     "data": {
      "text/plain": [
       "(array([0.52464954, 0.51333363, 0.52782926, 0.48370492, 0.52310412,\n",
       "        0.5162634 , 0.52320396, 0.49070126, 0.52360092, 0.50922853,\n",
       "        0.52354134, 0.52177013, 0.52103939, 0.5199353 , 0.52080733,\n",
       "        0.51778024, 0.52179499, 0.5238046 , 0.52350281, 0.52397459]),\n",
       " 0.5358033945403634)"
      ]
     },
     "execution_count": 4,
     "metadata": {},
     "output_type": "execute_result"
    }
   ],
   "source": [
    "al._parameters, fn.alpha_"
   ]
  },
  {
   "cell_type": "code",
   "execution_count": null,
   "metadata": {},
   "outputs": [],
   "source": []
  }
 ],
 "metadata": {
  "kernelspec": {
   "display_name": "uni",
   "language": "python",
   "name": "python3"
  },
  "language_info": {
   "codemirror_mode": {
    "name": "ipython",
    "version": 3
   },
   "file_extension": ".py",
   "mimetype": "text/x-python",
   "name": "python",
   "nbconvert_exporter": "python",
   "pygments_lexer": "ipython3",
   "version": "3.10.12"
  },
  "orig_nbformat": 4
 },
 "nbformat": 4,
 "nbformat_minor": 2
}
