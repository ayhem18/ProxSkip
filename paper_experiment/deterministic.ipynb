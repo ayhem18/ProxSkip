{
 "cells": [
  {
   "cell_type": "markdown",
   "metadata": {},
   "source": [
    "# Data and Imports"
   ]
  },
  {
   "cell_type": "code",
   "execution_count": 11,
   "metadata": {},
   "outputs": [],
   "source": [
    "import os\n",
    "import urllib\n",
    "import math\n",
    "import random\n",
    "\n",
    "import numpy as np\n",
    "\n",
    "from sklearn import datasets\n",
    "from typing import Sequence, Union, List, Tuple\n",
    "from numpy.linalg import norm\n",
    "from tqdm import tqdm\n",
    "\n",
    "from LogisticRegression import logistic_regression_loss, logistic_regression_L_estimation, logistic_regression_gradient"
   ]
  },
  {
   "cell_type": "code",
   "execution_count": 12,
   "metadata": {},
   "outputs": [],
   "source": [
    "DATASET_URL = \"https://www.csie.ntu.edu.tw/~cjlin/libsvmtools/datasets/binary/w8a\"\n",
    "data_path = './w8a'\n",
    "if not os.path.exists(data_path):\n",
    "    f = urllib.request.urlretrieve(DATASET_URL, data_path)\n",
    "DATA, LABELS = datasets.load_svmlight_file(data_path)"
   ]
  },
  {
   "cell_type": "code",
   "execution_count": 13,
   "metadata": {},
   "outputs": [],
   "source": [
    "def split_into_batches(X: np.ndarray,\n",
    "                       batch_size: int, \n",
    "                       y: np.ndarray=None,\n",
    "                       even_split: bool = True\n",
    "                       ) -> Union[Tuple[Sequence[np.ndarray], Sequence[np.ndarray]], Sequence[np.ndarray]]:\n",
    "    \"\"\"A function to split the data into batches. I discard shuffling in this function to make sure \n",
    "    the output is deterministic for the same 'X'\n",
    "\n",
    "    Args:\n",
    "        X (np.ndarray): The data samples\n",
    "        batch_size (int): \n",
    "        y (np.ndarray, optional): labels. Defaults to None.\n",
    "        even_split (bool, optional): Whether to have all batches split evenly. Defaults to True.\n",
    "\n",
    "    Returns:\n",
    "        Union[Tuple[Sequence[np.ndarray], Sequence[np.ndarray]], Sequence[np.ndarray]]: the data batches, [Optional] the label batches \n",
    "    \"\"\"\n",
    "    # convert the batch size to 'int'\n",
    "    batch_size = int(batch_size)\n",
    "    \n",
    "    # make sure to raise an error if the number of samples cannot be split into even batches (in case of 'even_split' is True)\n",
    "    if even_split and X.shape[0] % batch_size != 0:\n",
    "        raise ValueError((f\"Please pass a batch size that can split the data evenly or set 'even_split' to False.\\n\" \n",
    "                         f\"The number of samples: {len(X)}. The batch size: {batch_size}\"))\n",
    "    \n",
    "    if y is not None: \n",
    "        # make sure the number of samples is the same as that of the number of labels\n",
    "        if X.shape[0] != y.shape[0]:\n",
    "            raise ValueError(f\"The number of samples should be the same as the number of labels.\")\n",
    "\n",
    "        y = np.expand_dims(y, axis=-1) if y.ndim == 1 else y        \n",
    "\n",
    "    if y is not None:\n",
    "        return [X[i: i + batch_size] for i in range(0, X.shape[0], batch_size)], [y[i: i + batch_size] for i in range(0, y.shape[0], batch_size)]\n",
    "\n",
    "    return [X[i: i + batch_size] for i in range(0, X.shape[0], batch_size)]\n"
   ]
  },
  {
   "cell_type": "code",
   "execution_count": 14,
   "metadata": {},
   "outputs": [
    {
     "name": "stdout",
     "output_type": "stream",
     "text": [
      "Collecting git+https://github.com/konstmish/opt_methods.git\n",
      "  Cloning https://github.com/konstmish/opt_methods.git to /tmp/pip-req-build-ix0gv0zd\n",
      "  Running command git clone --filter=blob:none --quiet https://github.com/konstmish/opt_methods.git /tmp/pip-req-build-ix0gv0zd\n",
      "  Resolved https://github.com/konstmish/opt_methods.git to commit 993a765771d2b6d3cae9fcf1dcb71b23211f2ad0\n",
      "  Installing build dependencies ... \u001b[?25ldone\n",
      "\u001b[?25h  Getting requirements to build wheel ... \u001b[?25ldone\n",
      "\u001b[?25h  Preparing metadata (pyproject.toml) ... \u001b[?25ldone\n",
      "\u001b[?25h\n",
      "\u001b[1m[\u001b[0m\u001b[34;49mnotice\u001b[0m\u001b[1;39;49m]\u001b[0m\u001b[39;49m A new release of pip is available: \u001b[0m\u001b[31;49m23.2.1\u001b[0m\u001b[39;49m -> \u001b[0m\u001b[32;49m23.3.1\u001b[0m\n",
      "\u001b[1m[\u001b[0m\u001b[34;49mnotice\u001b[0m\u001b[1;39;49m]\u001b[0m\u001b[39;49m To update, run: \u001b[0m\u001b[32;49mpip install --upgrade pip\u001b[0m\n"
     ]
    }
   ],
   "source": [
    "!pip install git+https://github.com/konstmish/opt_methods.git"
   ]
  },
  {
   "cell_type": "code",
   "execution_count": 15,
   "metadata": {},
   "outputs": [
    {
     "name": "stdout",
     "output_type": "stream",
     "text": [
      "The passed labels have values in the set {-1, 1}. Changing them to {0, 1}\n",
      "Computing the smoothness constant via SVD, it may take a few minutes...\n"
     ]
    }
   ],
   "source": [
    "from optmethods.loss import LogisticRegression\n",
    "l1 = 0\n",
    "loss = LogisticRegression(DATA, LABELS, l1=l1, l2=0)\n",
    "n, dim = DATA.shape\n",
    "if n <= 20000 or dim <= 20000:\n",
    "    print('Computing the smoothness constant via SVD, it may take a few minutes...')\n",
    "L = loss.smoothness\n",
    "# l2 = 0\n",
    "l2 = 1e-4 * L\n",
    "loss.l2 = l2"
   ]
  },
  {
   "cell_type": "code",
   "execution_count": 17,
   "metadata": {},
   "outputs": [],
   "source": [
    "NUM_DEVICES = 16\n",
    "DEVICES_DATA, DEVICES_LABELS = split_into_batches(DATA, y=LABELS, even_split=False, batch_size=int(math.ceil(DATA.shape[0] /NUM_DEVICES)))\n",
    "DEVICES_DATA = [d.toarray() for d in DEVICES_DATA]"
   ]
  },
  {
   "cell_type": "code",
   "execution_count": 18,
   "metadata": {},
   "outputs": [],
   "source": [
    "PROBLEM_L = np.max([logistic_regression_L_estimation(X=d_data, y=d_labels, w=np.random.rand(d_data.shape[1], 1)) for d_data, d_labels in zip(DEVICES_DATA, DEVICES_LABELS)])\n",
    "# set lambda to L / 10 ** 4\n",
    "PROBLEM_LAMBDA = PROBLEM_L / 10 ** 4\n",
    "PROBLEM_L = PROBLEM_LAMBDA + PROBLEM_L"
   ]
  },
  {
   "cell_type": "code",
   "execution_count": 19,
   "metadata": {},
   "outputs": [],
   "source": [
    "from functools import partial\n",
    "FUNCTION = partial(logistic_regression_loss, lam=PROBLEM_LAMBDA)\n",
    "GRADIENT_FUNCTION = partial(logistic_regression_gradient, lam=PROBLEM_LAMBDA)"
   ]
  },
  {
   "cell_type": "code",
   "execution_count": 20,
   "metadata": {},
   "outputs": [],
   "source": [
    "# create the set up: x_0 and seed\n",
    "def set_up(seed: int = 69) -> np.ndarray:\n",
    "        # changing the seed mainly changes the starting point\n",
    "    random.seed(seed)\n",
    "    np.random.seed(seed)\n",
    "    w_0 = np.random.randn(DATA.shape[1], 1)\n",
    "    return w_0"
   ]
  },
  {
   "cell_type": "code",
   "execution_count": 27,
   "metadata": {},
   "outputs": [
    {
     "name": "stdout",
     "output_type": "stream",
     "text": [
      "The passed labels have values in the set {-1, 1}. Changing them to {0, 1}\n",
      "0.0\n",
      "0.0\n",
      "The passed labels have values in the set {-1, 1}. Changing them to {0, 1}\n",
      "1.1102230246251565e-16\n",
      "0.08620697757324791\n",
      "0.12261647216109162\n",
      "0.7063030608332618\n",
      "0.6974273354106619\n",
      "0.69344581844036\n",
      "0.3305039844026538\n",
      "0.3706593464817367\n",
      "1.8745439146202356\n",
      "0.7369228631129237\n",
      "0.5772570154230461\n",
      "0.036220135332528214\n",
      "0.3422457234716091\n",
      "1.1166260455177488\n",
      "1.2892981221328388\n",
      "0.6128225686015716\n",
      "1.07870874186771\n",
      "0.8764103072454328\n",
      "0.565994942730659\n",
      "0.7910537447081891\n",
      "1.5112310752319966\n",
      "0.9181421387534847\n",
      "1.0341321118445972\n",
      "2.237503898341814\n",
      "0.09766488284886732\n",
      "1.6815045890828406\n",
      "0.993326466264319\n",
      "0.565148373798809\n",
      "2.5585480604681763\n",
      "1.578757643327223\n",
      "0.02080196989402161\n",
      "1.2385898706819105\n",
      "0.10150063430886203\n",
      "0.03621031358670734\n",
      "0.9905945821077947\n",
      "0.7475079887839833\n",
      "0.47940545490042963\n",
      "0.4438160954356396\n",
      "3.7548005363632972\n",
      "1.5488986597472127\n",
      "1.0839080075113285\n",
      "0.7877699722041098\n",
      "0.7783132625223509\n",
      "0.12822388569566057\n",
      "0.5386299171601161\n",
      "1.0550178496337415\n",
      "0.6024740374540793\n",
      "1.9316279785460373\n"
     ]
    }
   ],
   "source": [
    "for i in range(0, DATA.shape[0], 1000):\n",
    "    d_data = DATA[i : i + 1000]\n",
    "    d_labels = LABELS[i : i + 1000]\n",
    "    w = np.random.randn(d_data.shape[1])\n",
    "    l = LogisticRegression(d_data, d_labels, l1=0, l2=0)\n",
    "    v1 = l.value(w)\n",
    "    v2 = logistic_regression_loss(d_data.toarray(), d_labels, w=w.reshape(-1, 1), lam=0)\n",
    "    print(np.abs(v1 - v2))"
   ]
  },
  {
   "cell_type": "code",
   "execution_count": 21,
   "metadata": {},
   "outputs": [
    {
     "ename": "KeyboardInterrupt",
     "evalue": "",
     "output_type": "error",
     "traceback": [
      "\u001b[0;31m---------------------------------------------------------------------------\u001b[0m",
      "\u001b[0;31mKeyboardInterrupt\u001b[0m                         Traceback (most recent call last)",
      "\u001b[1;32m/home/ayhem18/DEV/ProxSkip/paper_experiment/deterministic.ipynb Cell 12\u001b[0m line \u001b[0;36m1\n\u001b[1;32m      <a href='vscode-notebook-cell:/home/ayhem18/DEV/ProxSkip/paper_experiment/deterministic.ipynb#X11sZmlsZQ%3D%3D?line=8'>9</a>\u001b[0m \u001b[39mdef\u001b[39;00m \u001b[39mloss\u001b[39m(w):\n\u001b[1;32m     <a href='vscode-notebook-cell:/home/ayhem18/DEV/ProxSkip/paper_experiment/deterministic.ipynb#X11sZmlsZQ%3D%3D?line=9'>10</a>\u001b[0m     \u001b[39mreturn\u001b[39;00m np\u001b[39m.\u001b[39mmean([logistic_regression_loss(X\u001b[39m=\u001b[39md_data, y\u001b[39m=\u001b[39md_labels, w\u001b[39m=\u001b[39mw, lam\u001b[39m=\u001b[39mPROBLEM_LAMBDA) \u001b[39mfor\u001b[39;00m d_data, d_labels \u001b[39min\u001b[39;00m \u001b[39mzip\u001b[39m(DEVICES_DATA, DEVICES_LABELS)])\n\u001b[0;32m---> <a href='vscode-notebook-cell:/home/ayhem18/DEV/ProxSkip/paper_experiment/deterministic.ipynb#X11sZmlsZQ%3D%3D?line=11'>12</a>\u001b[0m res \u001b[39m=\u001b[39m minimize(loss, np\u001b[39m.\u001b[39;49mrandom\u001b[39m.\u001b[39;49mrand(DATA\u001b[39m.\u001b[39;49mshape[\u001b[39m1\u001b[39;49m]), method\u001b[39m=\u001b[39;49m\u001b[39m'\u001b[39;49m\u001b[39mBFGS\u001b[39;49m\u001b[39m'\u001b[39;49m, tol\u001b[39m=\u001b[39;49m\u001b[39m10\u001b[39;49m \u001b[39m*\u001b[39;49m\u001b[39m*\u001b[39;49m \u001b[39m-\u001b[39;49m\u001b[39m6\u001b[39;49m)\n\u001b[1;32m     <a href='vscode-notebook-cell:/home/ayhem18/DEV/ProxSkip/paper_experiment/deterministic.ipynb#X11sZmlsZQ%3D%3D?line=12'>13</a>\u001b[0m TRUE_MIN \u001b[39m=\u001b[39m res\u001b[39m.\u001b[39mfun\n\u001b[1;32m     <a href='vscode-notebook-cell:/home/ayhem18/DEV/ProxSkip/paper_experiment/deterministic.ipynb#X11sZmlsZQ%3D%3D?line=13'>14</a>\u001b[0m pickle\u001b[39m.\u001b[39mdump(TRUE_MIN, \u001b[39mopen\u001b[39m(\u001b[39m'\u001b[39m\u001b[39mtrue_min.pkl\u001b[39m\u001b[39m'\u001b[39m, \u001b[39m'\u001b[39m\u001b[39mwb\u001b[39m\u001b[39m'\u001b[39m))\n",
      "File \u001b[0;32m~/DEV/ProxSkip/opt_env/lib/python3.11/site-packages/scipy/optimize/_minimize.py:705\u001b[0m, in \u001b[0;36mminimize\u001b[0;34m(fun, x0, args, method, jac, hess, hessp, bounds, constraints, tol, callback, options)\u001b[0m\n\u001b[1;32m    703\u001b[0m     res \u001b[39m=\u001b[39m _minimize_cg(fun, x0, args, jac, callback, \u001b[39m*\u001b[39m\u001b[39m*\u001b[39moptions)\n\u001b[1;32m    704\u001b[0m \u001b[39melif\u001b[39;00m meth \u001b[39m==\u001b[39m \u001b[39m'\u001b[39m\u001b[39mbfgs\u001b[39m\u001b[39m'\u001b[39m:\n\u001b[0;32m--> 705\u001b[0m     res \u001b[39m=\u001b[39m _minimize_bfgs(fun, x0, args, jac, callback, \u001b[39m*\u001b[39;49m\u001b[39m*\u001b[39;49moptions)\n\u001b[1;32m    706\u001b[0m \u001b[39melif\u001b[39;00m meth \u001b[39m==\u001b[39m \u001b[39m'\u001b[39m\u001b[39mnewton-cg\u001b[39m\u001b[39m'\u001b[39m:\n\u001b[1;32m    707\u001b[0m     res \u001b[39m=\u001b[39m _minimize_newtoncg(fun, x0, args, jac, hess, hessp, callback,\n\u001b[1;32m    708\u001b[0m                              \u001b[39m*\u001b[39m\u001b[39m*\u001b[39moptions)\n",
      "File \u001b[0;32m~/DEV/ProxSkip/opt_env/lib/python3.11/site-packages/scipy/optimize/_optimize.py:1419\u001b[0m, in \u001b[0;36m_minimize_bfgs\u001b[0;34m(fun, x0, args, jac, callback, gtol, norm, eps, maxiter, disp, return_all, finite_diff_rel_step, xrtol, **unknown_options)\u001b[0m\n\u001b[1;32m   1416\u001b[0m \u001b[39mif\u001b[39;00m maxiter \u001b[39mis\u001b[39;00m \u001b[39mNone\u001b[39;00m:\n\u001b[1;32m   1417\u001b[0m     maxiter \u001b[39m=\u001b[39m \u001b[39mlen\u001b[39m(x0) \u001b[39m*\u001b[39m \u001b[39m200\u001b[39m\n\u001b[0;32m-> 1419\u001b[0m sf \u001b[39m=\u001b[39m _prepare_scalar_function(fun, x0, jac, args\u001b[39m=\u001b[39;49margs, epsilon\u001b[39m=\u001b[39;49meps,\n\u001b[1;32m   1420\u001b[0m                               finite_diff_rel_step\u001b[39m=\u001b[39;49mfinite_diff_rel_step)\n\u001b[1;32m   1422\u001b[0m f \u001b[39m=\u001b[39m sf\u001b[39m.\u001b[39mfun\n\u001b[1;32m   1423\u001b[0m myfprime \u001b[39m=\u001b[39m sf\u001b[39m.\u001b[39mgrad\n",
      "File \u001b[0;32m~/DEV/ProxSkip/opt_env/lib/python3.11/site-packages/scipy/optimize/_optimize.py:383\u001b[0m, in \u001b[0;36m_prepare_scalar_function\u001b[0;34m(fun, x0, jac, args, bounds, epsilon, finite_diff_rel_step, hess)\u001b[0m\n\u001b[1;32m    379\u001b[0m     bounds \u001b[39m=\u001b[39m (\u001b[39m-\u001b[39mnp\u001b[39m.\u001b[39minf, np\u001b[39m.\u001b[39minf)\n\u001b[1;32m    381\u001b[0m \u001b[39m# ScalarFunction caches. Reuse of fun(x) during grad\u001b[39;00m\n\u001b[1;32m    382\u001b[0m \u001b[39m# calculation reduces overall function evaluations.\u001b[39;00m\n\u001b[0;32m--> 383\u001b[0m sf \u001b[39m=\u001b[39m ScalarFunction(fun, x0, args, grad, hess,\n\u001b[1;32m    384\u001b[0m                     finite_diff_rel_step, bounds, epsilon\u001b[39m=\u001b[39;49mepsilon)\n\u001b[1;32m    386\u001b[0m \u001b[39mreturn\u001b[39;00m sf\n",
      "File \u001b[0;32m~/DEV/ProxSkip/opt_env/lib/python3.11/site-packages/scipy/optimize/_differentiable_functions.py:177\u001b[0m, in \u001b[0;36mScalarFunction.__init__\u001b[0;34m(self, fun, x0, args, grad, hess, finite_diff_rel_step, finite_diff_bounds, epsilon)\u001b[0m\n\u001b[1;32m    173\u001b[0m         \u001b[39mself\u001b[39m\u001b[39m.\u001b[39mg \u001b[39m=\u001b[39m approx_derivative(fun_wrapped, \u001b[39mself\u001b[39m\u001b[39m.\u001b[39mx, f0\u001b[39m=\u001b[39m\u001b[39mself\u001b[39m\u001b[39m.\u001b[39mf,\n\u001b[1;32m    174\u001b[0m                                    \u001b[39m*\u001b[39m\u001b[39m*\u001b[39mfinite_diff_options)\n\u001b[1;32m    176\u001b[0m \u001b[39mself\u001b[39m\u001b[39m.\u001b[39m_update_grad_impl \u001b[39m=\u001b[39m update_grad\n\u001b[0;32m--> 177\u001b[0m \u001b[39mself\u001b[39;49m\u001b[39m.\u001b[39;49m_update_grad()\n\u001b[1;32m    179\u001b[0m \u001b[39m# Hessian Evaluation\u001b[39;00m\n\u001b[1;32m    180\u001b[0m \u001b[39mif\u001b[39;00m \u001b[39mcallable\u001b[39m(hess):\n",
      "File \u001b[0;32m~/DEV/ProxSkip/opt_env/lib/python3.11/site-packages/scipy/optimize/_differentiable_functions.py:256\u001b[0m, in \u001b[0;36mScalarFunction._update_grad\u001b[0;34m(self)\u001b[0m\n\u001b[1;32m    254\u001b[0m \u001b[39mdef\u001b[39;00m \u001b[39m_update_grad\u001b[39m(\u001b[39mself\u001b[39m):\n\u001b[1;32m    255\u001b[0m     \u001b[39mif\u001b[39;00m \u001b[39mnot\u001b[39;00m \u001b[39mself\u001b[39m\u001b[39m.\u001b[39mg_updated:\n\u001b[0;32m--> 256\u001b[0m         \u001b[39mself\u001b[39;49m\u001b[39m.\u001b[39;49m_update_grad_impl()\n\u001b[1;32m    257\u001b[0m         \u001b[39mself\u001b[39m\u001b[39m.\u001b[39mg_updated \u001b[39m=\u001b[39m \u001b[39mTrue\u001b[39;00m\n",
      "File \u001b[0;32m~/DEV/ProxSkip/opt_env/lib/python3.11/site-packages/scipy/optimize/_differentiable_functions.py:173\u001b[0m, in \u001b[0;36mScalarFunction.__init__.<locals>.update_grad\u001b[0;34m()\u001b[0m\n\u001b[1;32m    171\u001b[0m \u001b[39mself\u001b[39m\u001b[39m.\u001b[39m_update_fun()\n\u001b[1;32m    172\u001b[0m \u001b[39mself\u001b[39m\u001b[39m.\u001b[39mngev \u001b[39m+\u001b[39m\u001b[39m=\u001b[39m \u001b[39m1\u001b[39m\n\u001b[0;32m--> 173\u001b[0m \u001b[39mself\u001b[39m\u001b[39m.\u001b[39mg \u001b[39m=\u001b[39m approx_derivative(fun_wrapped, \u001b[39mself\u001b[39;49m\u001b[39m.\u001b[39;49mx, f0\u001b[39m=\u001b[39;49m\u001b[39mself\u001b[39;49m\u001b[39m.\u001b[39;49mf,\n\u001b[1;32m    174\u001b[0m                            \u001b[39m*\u001b[39;49m\u001b[39m*\u001b[39;49mfinite_diff_options)\n",
      "File \u001b[0;32m~/DEV/ProxSkip/opt_env/lib/python3.11/site-packages/scipy/optimize/_numdiff.py:505\u001b[0m, in \u001b[0;36mapprox_derivative\u001b[0;34m(fun, x0, method, rel_step, abs_step, f0, bounds, sparsity, as_linear_operator, args, kwargs)\u001b[0m\n\u001b[1;32m    502\u001b[0m     use_one_sided \u001b[39m=\u001b[39m \u001b[39mFalse\u001b[39;00m\n\u001b[1;32m    504\u001b[0m \u001b[39mif\u001b[39;00m sparsity \u001b[39mis\u001b[39;00m \u001b[39mNone\u001b[39;00m:\n\u001b[0;32m--> 505\u001b[0m     \u001b[39mreturn\u001b[39;00m _dense_difference(fun_wrapped, x0, f0, h,\n\u001b[1;32m    506\u001b[0m                              use_one_sided, method)\n\u001b[1;32m    507\u001b[0m \u001b[39melse\u001b[39;00m:\n\u001b[1;32m    508\u001b[0m     \u001b[39mif\u001b[39;00m \u001b[39mnot\u001b[39;00m issparse(sparsity) \u001b[39mand\u001b[39;00m \u001b[39mlen\u001b[39m(sparsity) \u001b[39m==\u001b[39m \u001b[39m2\u001b[39m:\n",
      "File \u001b[0;32m~/DEV/ProxSkip/opt_env/lib/python3.11/site-packages/scipy/optimize/_numdiff.py:576\u001b[0m, in \u001b[0;36m_dense_difference\u001b[0;34m(fun, x0, f0, h, use_one_sided, method)\u001b[0m\n\u001b[1;32m    574\u001b[0m     x \u001b[39m=\u001b[39m x0 \u001b[39m+\u001b[39m h_vecs[i]\n\u001b[1;32m    575\u001b[0m     dx \u001b[39m=\u001b[39m x[i] \u001b[39m-\u001b[39m x0[i]  \u001b[39m# Recompute dx as exactly representable number.\u001b[39;00m\n\u001b[0;32m--> 576\u001b[0m     df \u001b[39m=\u001b[39m fun(x) \u001b[39m-\u001b[39m f0\n\u001b[1;32m    577\u001b[0m \u001b[39melif\u001b[39;00m method \u001b[39m==\u001b[39m \u001b[39m'\u001b[39m\u001b[39m3-point\u001b[39m\u001b[39m'\u001b[39m \u001b[39mand\u001b[39;00m use_one_sided[i]:\n\u001b[1;32m    578\u001b[0m     x1 \u001b[39m=\u001b[39m x0 \u001b[39m+\u001b[39m h_vecs[i]\n",
      "File \u001b[0;32m~/DEV/ProxSkip/opt_env/lib/python3.11/site-packages/scipy/optimize/_numdiff.py:456\u001b[0m, in \u001b[0;36mapprox_derivative.<locals>.fun_wrapped\u001b[0;34m(x)\u001b[0m\n\u001b[1;32m    455\u001b[0m \u001b[39mdef\u001b[39;00m \u001b[39mfun_wrapped\u001b[39m(x):\n\u001b[0;32m--> 456\u001b[0m     f \u001b[39m=\u001b[39m np\u001b[39m.\u001b[39matleast_1d(fun(x, \u001b[39m*\u001b[39;49margs, \u001b[39m*\u001b[39;49m\u001b[39m*\u001b[39;49mkwargs))\n\u001b[1;32m    457\u001b[0m     \u001b[39mif\u001b[39;00m f\u001b[39m.\u001b[39mndim \u001b[39m>\u001b[39m \u001b[39m1\u001b[39m:\n\u001b[1;32m    458\u001b[0m         \u001b[39mraise\u001b[39;00m \u001b[39mRuntimeError\u001b[39;00m(\u001b[39m\"\u001b[39m\u001b[39m`fun` return value has \u001b[39m\u001b[39m\"\u001b[39m\n\u001b[1;32m    459\u001b[0m                            \u001b[39m\"\u001b[39m\u001b[39mmore than 1 dimension.\u001b[39m\u001b[39m\"\u001b[39m)\n",
      "File \u001b[0;32m~/DEV/ProxSkip/opt_env/lib/python3.11/site-packages/scipy/optimize/_differentiable_functions.py:137\u001b[0m, in \u001b[0;36mScalarFunction.__init__.<locals>.fun_wrapped\u001b[0;34m(x)\u001b[0m\n\u001b[1;32m    133\u001b[0m \u001b[39mself\u001b[39m\u001b[39m.\u001b[39mnfev \u001b[39m+\u001b[39m\u001b[39m=\u001b[39m \u001b[39m1\u001b[39m\n\u001b[1;32m    134\u001b[0m \u001b[39m# Send a copy because the user may overwrite it.\u001b[39;00m\n\u001b[1;32m    135\u001b[0m \u001b[39m# Overwriting results in undefined behaviour because\u001b[39;00m\n\u001b[1;32m    136\u001b[0m \u001b[39m# fun(self.x) will change self.x, with the two no longer linked.\u001b[39;00m\n\u001b[0;32m--> 137\u001b[0m fx \u001b[39m=\u001b[39m fun(np\u001b[39m.\u001b[39;49mcopy(x), \u001b[39m*\u001b[39;49margs)\n\u001b[1;32m    138\u001b[0m \u001b[39m# Make sure the function returns a true scalar\u001b[39;00m\n\u001b[1;32m    139\u001b[0m \u001b[39mif\u001b[39;00m \u001b[39mnot\u001b[39;00m np\u001b[39m.\u001b[39misscalar(fx):\n",
      "\u001b[1;32m/home/ayhem18/DEV/ProxSkip/paper_experiment/deterministic.ipynb Cell 12\u001b[0m line \u001b[0;36m1\n\u001b[1;32m      <a href='vscode-notebook-cell:/home/ayhem18/DEV/ProxSkip/paper_experiment/deterministic.ipynb#X11sZmlsZQ%3D%3D?line=8'>9</a>\u001b[0m \u001b[39mdef\u001b[39;00m \u001b[39mloss\u001b[39m(w):\n\u001b[0;32m---> <a href='vscode-notebook-cell:/home/ayhem18/DEV/ProxSkip/paper_experiment/deterministic.ipynb#X11sZmlsZQ%3D%3D?line=9'>10</a>\u001b[0m     \u001b[39mreturn\u001b[39;00m np\u001b[39m.\u001b[39mmean([logistic_regression_loss(X\u001b[39m=\u001b[39;49md_data, y\u001b[39m=\u001b[39;49md_labels, w\u001b[39m=\u001b[39;49mw, lam\u001b[39m=\u001b[39;49mPROBLEM_LAMBDA) \u001b[39mfor\u001b[39;49;00m d_data, d_labels \u001b[39min\u001b[39;49;00m \u001b[39mzip\u001b[39;49m(DEVICES_DATA, DEVICES_LABELS)])\n",
      "\u001b[1;32m/home/ayhem18/DEV/ProxSkip/paper_experiment/deterministic.ipynb Cell 12\u001b[0m line \u001b[0;36m1\n\u001b[1;32m      <a href='vscode-notebook-cell:/home/ayhem18/DEV/ProxSkip/paper_experiment/deterministic.ipynb#X11sZmlsZQ%3D%3D?line=8'>9</a>\u001b[0m \u001b[39mdef\u001b[39;00m \u001b[39mloss\u001b[39m(w):\n\u001b[0;32m---> <a href='vscode-notebook-cell:/home/ayhem18/DEV/ProxSkip/paper_experiment/deterministic.ipynb#X11sZmlsZQ%3D%3D?line=9'>10</a>\u001b[0m     \u001b[39mreturn\u001b[39;00m np\u001b[39m.\u001b[39mmean([logistic_regression_loss(X\u001b[39m=\u001b[39;49md_data, y\u001b[39m=\u001b[39;49md_labels, w\u001b[39m=\u001b[39;49mw, lam\u001b[39m=\u001b[39;49mPROBLEM_LAMBDA) \u001b[39mfor\u001b[39;00m d_data, d_labels \u001b[39min\u001b[39;00m \u001b[39mzip\u001b[39m(DEVICES_DATA, DEVICES_LABELS)])\n",
      "File \u001b[0;32m~/DEV/ProxSkip/paper_experiment/LogisticRegression.py:55\u001b[0m, in \u001b[0;36mlogistic_regression_loss\u001b[0;34m(X, y, w, lam)\u001b[0m\n\u001b[1;32m     52\u001b[0m X, y, w \u001b[39m=\u001b[39m verify_input(X, y, w)\n\u001b[1;32m     54\u001b[0m A \u001b[39m=\u001b[39m X \u001b[39m*\u001b[39m y\n\u001b[0;32m---> 55\u001b[0m \u001b[39mreturn\u001b[39;00m np\u001b[39m.\u001b[39mmean(np\u001b[39m.\u001b[39mlog(\u001b[39m1\u001b[39m \u001b[39m+\u001b[39m np\u001b[39m.\u001b[39mexp((\u001b[39m-\u001b[39m A \u001b[39m@\u001b[39m w)\u001b[39m.\u001b[39mastype(np\u001b[39m.\u001b[39mfloat64)))) \u001b[39m+\u001b[39m (lam \u001b[39m/\u001b[39m \u001b[39m2\u001b[39m) \u001b[39m*\u001b[39m np\u001b[39m.\u001b[39mlinalg\u001b[39m.\u001b[39mnorm(w) \u001b[39m*\u001b[39m\u001b[39m*\u001b[39m \u001b[39m2\u001b[39m\n",
      "\u001b[0;31mKeyboardInterrupt\u001b[0m: "
     ]
    }
   ],
   "source": [
    "# find the solution to the problem:\n",
    "\n",
    "import os\n",
    "import pickle\n",
    "from scipy.optimize import minimize\n",
    "\n",
    "# if not os.path.exists('true_min.pkl'):\n",
    "#     # Finding true minimum to compare with\n",
    "#     def loss(w):\n",
    "#         return np.mean([logistic_regression_loss(X=d_data, y=d_labels, w=w, lam=PROBLEM_LAMBDA) for d_data, d_labels in zip(DEVICES_DATA, DEVICES_LABELS)])\n",
    "\n",
    "#     res = minimize(loss, np.random.rand(DATA.shape[1]), method='BFGS', tol=10 ** -6)\n",
    "#     TRUE_MIN = res.fun\n",
    "#     pickle.dump(TRUE_MIN, open('true_min.pkl', 'wb'))\n",
    "#     print(res)\n",
    "# else:\n",
    "#     with open('true_min.pkl', 'rb') as f:\n",
    "#         TRUE_MIN = pickle.load(f)"
   ]
  },
  {
   "cell_type": "code",
   "execution_count": null,
   "metadata": {},
   "outputs": [
    {
     "data": {
      "text/plain": [
       "0.15911168496945277"
      ]
     },
     "execution_count": 18,
     "metadata": {},
     "output_type": "execute_result"
    }
   ],
   "source": [
    "TRUE_MIN"
   ]
  },
  {
   "cell_type": "markdown",
   "metadata": {},
   "source": [
    "# Local Gradient Descent"
   ]
  },
  {
   "cell_type": "code",
   "execution_count": 19,
   "metadata": {},
   "outputs": [],
   "source": [
    "class LocalGDDevice:\n",
    "    def __init__(self,\n",
    "                 function: callable, \n",
    "                 gradient_function: callable, \n",
    "                 data: np.ndarray,\n",
    "                 labels: np.ndarray,\n",
    "                 num_local_steps: int\n",
    "                 ) -> None:\n",
    "        self.data = data\n",
    "        self.labels = labels\n",
    "\n",
    "        self.function = function\n",
    "        self.gradient_function = gradient_function \n",
    "\n",
    "        self.H = num_local_steps\n",
    "\n",
    "    def grad_step(self, x_current: np.ndarray, step_size: float) -> np.ndarray:  \n",
    "        x = x_current.copy()\n",
    "        for _ in range(self.H):\n",
    "            grad = self.gradient_function(self.data,\n",
    "                                          self.labels,\n",
    "                                          x)\n",
    "            x = x - step_size * grad\n",
    "        return x\n",
    "\n",
    "    def local_grad(self, x_current) -> np.ndarray:\n",
    "        return self.gradient_function(self.data,\n",
    "                                          self.labels,\n",
    "                                          x_current)\n",
    "        \n",
    "    def local_function(self, x_current: np.ndarray) -> float:\n",
    "        return self.function(self.data, self.labels, x_current)\n",
    "\n",
    "\n",
    "class LocalSGDDevice:\n",
    "    def __init__(self, \n",
    "                 function: callable,                   \n",
    "                 gradient_function: callable, \n",
    "                 data: np.ndarray,\n",
    "                 labels: np.ndarray,\n",
    "                 num_local_steps: int,\n",
    "                 batch_size: int\n",
    "                 ) -> None:\n",
    "        self.data = data\n",
    "        self.labels = labels\n",
    "\n",
    "        self.function = function\n",
    "        self.gradient_function = gradient_function \n",
    "        \n",
    "        self.H = num_local_steps\n",
    "        \n",
    "        self.batch_size = batch_size\n",
    "        self.num_batches = int(math.ceil(len(self.data)) / self.batch_size )\n",
    "\n",
    "\n",
    "    def local_function(self, x_current: np.ndarray) -> float:\n",
    "        return self.function(self.data, self.labels, x_current)\n",
    "\n",
    "    def grad_step(self, \n",
    "                   x_current: np.ndarray, \n",
    "                   step_size: float) -> np.ndarray:  \n",
    "        x = x_current.copy()\n",
    "        for _ in range(self.H):\n",
    "            batch_index = random.randint(0, self.num_batches - 1)\n",
    "            data, labels = self.data[batch_index * self.batch_size: (batch_index + 1) * self.batch_size]\n",
    "            grad = self.gradient_function(data,\n",
    "                                          labels,\n",
    "                                          x)\n",
    "            x = x - step_size * grad\n",
    "        return x\n"
   ]
  },
  {
   "cell_type": "code",
   "execution_count": 20,
   "metadata": {},
   "outputs": [],
   "source": [
    "def x_difference(x1: np.ndarray, x2: np.ndarray) -> float:\n",
    "    \"\"\"Computes the euclidean norm of the difference vector \n",
    "\n",
    "    Args:\n",
    "        x1 (np.ndarray): first vector\n",
    "        x2 (np.ndarray): second vector\n",
    "\n",
    "    Returns:\n",
    "        float: returns the norm of the difference\n",
    "    \"\"\"\n",
    "    return norm(x1 - x2, ord=2)\n",
    "\n",
    "def f_difference(f1: float, f2: float) -> float:\n",
    "    \"\"\"returns the absolute difference between 2 values \"\"\"\n",
    "    # the expression f_x_k - f_sol is equivalent since the problem is minimization,\n",
    "    # but the 'abs' function was used to make the method general and not only specific to the given problem\n",
    "    return abs(f1 - f2)      \n",
    "\n",
    "# let's define the modes in terms of strings\n",
    "x_diff = 'x_k+1 - x_k'\n",
    "f_diff = 'f(x_k+1) - f(x_k)'\n",
    "normalized_criterion = 'df_xk / df_x0'\n",
    "x_opt_diff = 'x* - x_k'"
   ]
  },
  {
   "cell_type": "code",
   "execution_count": 21,
   "metadata": {},
   "outputs": [],
   "source": [
    "def local_GD(\n",
    "    num_local_steps:int,\n",
    "    local_devices: Sequence[LocalGDDevice],\n",
    "    x_0: np.ndarray,\n",
    "    x_sol: np.ndarray=None,\n",
    "    K: int = 10 ** 3,\n",
    "    eps: float = 10 ** -5, \n",
    "    mode: str = normalized_criterion,\n",
    "    gamma_k: callable = None,                      \n",
    "    return_history: bool = True\n",
    "    ) -> Union[List[np.ndarray], np.ndarray]:\n",
    "\n",
    "    # the first step is to make sure the 'mode' variable is defined above\n",
    "    if isinstance(mode , str) and mode not in [f_diff, x_diff, normalized_criterion, x_opt_diff]:\n",
    "        raise ValueError((f\"the variable 'mode' is expected to belong to {[f_diff, x_diff, normalized_criterion, x_opt_diff]}\"\n",
    "                          f\"Found: {mode}\"))\n",
    "    \n",
    "    if mode == x_opt_diff and x_sol is None: \n",
    "        raise ValueError(f\"using mode = {x_opt_diff} requires passing the solution to the problem\")\n",
    "\n",
    "    # make sure the number of local_steps is at least 1\n",
    "    num_local_steps = max(1, num_local_steps)\n",
    "\n",
    "    x_current = np.expand_dims(x_0) if x_0.ndim == 1 else x_0\n",
    "    x_history = [x_current]\n",
    "    criterion_history = []\n",
    "\n",
    "    for k in tqdm(range(math.ceil(K / num_local_steps))):\n",
    "        x_previous = x_current.copy()\n",
    "        gamma = gamma_k(k)\n",
    "\n",
    "        local_xs = np.concatenate([d.grad_step(x_current=x_current, step_size=gamma) for d in local_devices], axis=1)\n",
    "        x_current = np.mean(local_xs, axis=1).reshape(-1, 1)\n",
    "\n",
    "        if mode == f_diff:\n",
    "            # the value of the function at 'x_current' is the average of the values of the local functions both at 'x_current' and 'x_previous'\n",
    "            x_current_function_value = np.mean([d.local_function(x_current=x_current) for d in local_devices])\n",
    "            x_previous_function_value = np.mean([d.local_function(x_current=x_previous) for d in local_devices])    \n",
    "            diff = f_difference(x_current_function_value, x_previous_function_value)\n",
    "        \n",
    "        elif mode == x_diff:\n",
    "            diff = x_difference(x_current, x_previous)\n",
    "        \n",
    "        elif mode == normalized_criterion:\n",
    "            # calculate the gradient at 'x_current' which is already calculated\n",
    "            local_grads_x0 = np.concatenate([d.local_grad(x_current=x_0, step_size=gamma) for d in local_devices], axis=1)\n",
    "            x0_grad = np.mean(local_grads_x0, axis=1).reshape(-1, 1)\n",
    "\n",
    "            local_grads_x0 = np.concatenate([d.local_grad(x_current=x_current, step_size=gamma) for d in local_devices], axis=1)\n",
    "            current_grad = np.mean(local_grads_x0, axis=1).reshape(-1, 1)\n",
    "            \n",
    "            diff = norm(current_grad) / norm(x0_grad)\n",
    "        \n",
    "        elif mode == x_opt_diff: \n",
    "            diff = norm(x_current - x_sol, ord=2)\n",
    "        \n",
    "        else: \n",
    "            # the last case is where the criterion is passed as an argument\n",
    "            diff = mode(x_current)\n",
    "\n",
    "        criterion_history.append(diff)\n",
    "        # add 'x_current' to the history\n",
    "        x_history.append(x_current)\n",
    "            \n",
    "        if diff <= eps: \n",
    "            break\n",
    "\n",
    "        assert len(x_history) == k + 2, f\"expected {k + 2} points. Found: {len(x_history)}\"\n",
    "\n",
    "    return  (x_history, criterion_history) if return_history else x_history[-1]"
   ]
  },
  {
   "cell_type": "code",
   "execution_count": 22,
   "metadata": {},
   "outputs": [],
   "source": [
    "import matplotlib.pyplot as plt\n",
    "def plot_iterations(criterions: List[float],\n",
    "                    start_index: int = 0, \n",
    "                    end_index: int = -1,\n",
    "                    plot_label: str = None,\n",
    "                    x_label: str = None,\n",
    "                    y_label: str = None,\n",
    "                    show:bool = True,\n",
    "                    ):\n",
    "    \n",
    "    end_index = (end_index + len(criterions)) % len(criterions)\n",
    "\n",
    "    if plot_label is None:\n",
    "        plt.plot(list(range(start_index, end_index)), criterions[start_index:end_index])\n",
    "    else:\n",
    "        plt.plot(list(range(start_index, end_index)), criterions[start_index:end_index], label=str(plot_label))\n",
    "    \n",
    "\n",
    "    plt.xlabel('iteration' if x_label is None else x_label)\n",
    "    plt.ylabel('criterion (log_{10} scale)' if x_label is None else y_label)\n",
    "    \n",
    "    if show:\n",
    "        plt.legend()\n",
    "        plt.show()"
   ]
  },
  {
   "cell_type": "code",
   "execution_count": 37,
   "metadata": {},
   "outputs": [],
   "source": [
    "K = 1000\n",
    "NUM_LOCAL_STEPS = 50\n",
    "COMMUNICATION_ROUNDS = K // NUM_LOCAL_STEPS\n",
    "\n",
    "# create the devices\n",
    "DEVICES = [LocalGDDevice(num_local_steps=NUM_LOCAL_STEPS,\n",
    "                         data=d_data, \n",
    "                         labels=d_labels,\n",
    "                         function=FUNCTION,\n",
    "                         gradient_function=GRADIENT_FUNCTION) for d_data, d_labels in zip(DEVICES_DATA, DEVICES_LABELS)]\n",
    "\n",
    "CRITERION = lambda x : np.mean([FUNCTION(d_data, d_labels, x) for d_data, d_labels in zip(DEVICES_DATA, DEVICES_LABELS)]) - TRUE_MIN"
   ]
  },
  {
   "cell_type": "code",
   "execution_count": 38,
   "metadata": {},
   "outputs": [
    {
     "name": "stderr",
     "output_type": "stream",
     "text": [
      "100%|██████████| 20/20 [01:28<00:00,  4.42s/it]\n"
     ]
    }
   ],
   "source": [
    "local_gd_xpoints, local_gd_criterions = local_GD(num_local_steps=NUM_LOCAL_STEPS, \n",
    "         local_devices=DEVICES, \n",
    "         x_0=set_up(),\n",
    "         mode=CRITERION, \n",
    "         gamma_k=lambda _ : 1 / PROBLEM_L, \n",
    "         K=K\n",
    "         )"
   ]
  },
  {
   "cell_type": "code",
   "execution_count": 40,
   "metadata": {},
   "outputs": [
    {
     "data": {
      "text/plain": [
       "0.08925508780334432"
      ]
     },
     "execution_count": 40,
     "metadata": {},
     "output_type": "execute_result"
    }
   ],
   "source": [
    "np.min(local_gd_criterions)"
   ]
  },
  {
   "cell_type": "code",
   "execution_count": 39,
   "metadata": {},
   "outputs": [
    {
     "name": "stderr",
     "output_type": "stream",
     "text": [
      "No artists with labels found to put in legend.  Note that artists whose label start with an underscore are ignored when legend() is called with no argument.\n"
     ]
    },
    {
     "data": {
      "image/png": "[encoded data removed]",
      "text/plain": [
       "<Figure size 640x480 with 1 Axes>"
      ]
     },
     "metadata": {},
     "output_type": "display_data"
    }
   ],
   "source": [
    "plot_iterations(criterions=local_gd_criterions, x_label='communication rounds', y_label='f(x) - f(*)', show=True)"
   ]
  },
  {
   "cell_type": "code",
   "execution_count": 24,
   "metadata": {},
   "outputs": [],
   "source": [
    "class ProxSkipDevice:\n",
    "    def __init__(self,\n",
    "                 function: callable, \n",
    "                 gradient_function: callable, \n",
    "                 data: np.ndarray,\n",
    "                 labels: np.ndarray,\n",
    "                 xt: np.ndarray,\n",
    "                 ht: np.ndarray\n",
    "                 ) -> None:\n",
    "        self.data = data\n",
    "        self.labels = labels\n",
    "\n",
    "        self.function = function\n",
    "        self.gradient_function = gradient_function \n",
    "\n",
    "        # the control variate\n",
    "        self.ht = ht\n",
    "        # the weight\n",
    "        self.xt = xt\n",
    "\n",
    "    def grad_step(self, step_size: float, x_current: np.ndarray = None) -> np.ndarray:\n",
    "        d, l = self.data, self.labels\n",
    "        \n",
    "        if x_current is None:\n",
    "            # this calculates the gradient and updates the local weight\n",
    "            grad = self.gradient_function(d, l, self.xt)\n",
    "            self.xt = self.xt - step_size * (grad - self.ht)\n",
    "            return self.xt\n",
    "        \n",
    "        else:\n",
    "            return self.gradient_function(d, l, x_current)  \n",
    "\n",
    "\n",
    "    def control_variate_step(self, step_size: float, xt: np.ndarray):\n",
    "        self.ht = self.ht + step_size * (xt - self.xt)\n",
    "\n",
    "\n",
    "    def local_function(self, x_current: np.ndarray = None):\n",
    "        x_current = self.xt if x_current is None else x_current\n",
    "        return self.function(self.data, self.labels, x_current)\n",
    "\n",
    "\n",
    "    def local_grad(self, x_current: np.ndarray = None) -> np.ndarray:\n",
    "        x_current = self.xt if x_current is None else x_current\n",
    "        return self.gradient_function(self.data, self.labels, x_current)\n",
    "\n",
    "    def set_xt(self, x: np.ndarray):\n",
    "        self.xt = x.copy()\n",
    "\n",
    "    def set_ht(self, h: np.ndarray):\n",
    "        self.ht = h.copy()\n",
    "    \n"
   ]
  },
  {
   "cell_type": "code",
   "execution_count": 25,
   "metadata": {},
   "outputs": [],
   "source": [
    "def setup_hts_prox_skip(shape: Tuple, number: int):\n",
    "    np.random.seed(55)\n",
    "    hts = [np.random.randn(*shape) for _ in range(number)]\n",
    "    avg = np.mean(hts, axis=0)    \n",
    "    assert np.allclose(np.sum(np.asarray([h - avg for h in hts]), axis=0), 0), \"The sum of hts do not add up to a 'zero' vector.\"\n",
    "    return [h - avg for h in hts]\n",
    "\n",
    "def setup_xts_prox_skip(shape: Tuple, number: int):\n",
    "    np.random.seed(14)\n",
    "    x0 = np.random.randn(*shape)\n",
    "    return [x0 for _ in range(number)]\n",
    "    \n",
    "HTS = setup_hts_prox_skip((DATA.shape[1], 1), NUM_DEVICES)\n",
    "XTS = setup_xts_prox_skip((DATA.shape[1], 1), NUM_DEVICES)\n",
    "\n",
    "# set the devices\n",
    "PROXSKIP_DEVICES = [ProxSkipDevice(function=FUNCTION,\n",
    "                                   gradient_function=GRADIENT_FUNCTION,\n",
    "                                   data=d_data,\n",
    "                                   labels=d_labels, \n",
    "                                   xt=xt, \n",
    "                                   ht=ht) \n",
    "                                   for (d_data, d_labels, xt, ht) in zip(DEVICES_DATA, DEVICES_LABELS, XTS, HTS)]\n"
   ]
  },
  {
   "cell_type": "code",
   "execution_count": 26,
   "metadata": {},
   "outputs": [],
   "source": [
    "def proxSkipFL(\n",
    "        local_devices: List[ProxSkipDevice],\n",
    "        skip_probability: float,\n",
    "        x_0: np.ndarray,\n",
    "        x_sol: np.ndarray=None,\n",
    "        K: int = 10 ** 3,\n",
    "        eps: float = 10 ** -5, \n",
    "        mode: str = normalized_criterion,\n",
    "        gamma_k: callable = None,                      \n",
    "        return_history: bool = True):\n",
    "    # the first step is to make sure the 'mode' variable is defined above\n",
    "    if isinstance(mode , str) and mode not in [f_diff, x_diff, normalized_criterion, x_opt_diff]:\n",
    "        raise ValueError((f\"the variable 'mode' is expected to belong to {[f_diff, x_diff, normalized_criterion, x_opt_diff]}\"\n",
    "                          f\"Found: {mode}\"))\n",
    "    \n",
    "    if mode == x_opt_diff and x_sol is None: \n",
    "        raise ValueError(f\"using mode = {x_opt_diff} requires passing the solution to the problem\")\n",
    "\n",
    "    # set the initial value for all devices\n",
    "    for d in local_devices:\n",
    "        d.set_xt(x_0)\n",
    "\n",
    "    x_current = np.expand_dims(x_0) if x_0.ndim == 1 else x_0\n",
    "    x_history = [x_current]\n",
    "    criterion_history = []\n",
    "\n",
    "    for k in tqdm(range(K)):\n",
    "        x_previous = x_current.copy()\n",
    "        learning_rate = gamma_k(k)\n",
    "\n",
    "        # local step for each device\n",
    "        local_xs = [d.grad_step(step_size=learning_rate) for d in local_devices]\n",
    "        \n",
    "        # flip a coin: whether to communicate or not\n",
    "        on_prox = random.random() < skip_probability\n",
    "        \n",
    "        if not on_prox:\n",
    "            continue\n",
    "\n",
    "        if on_prox:\n",
    "            # average the local xs\n",
    "            avg_x = np.concatenate(local_xs, axis=1).mean(axis=1)\n",
    "            \n",
    "            for d in local_devices:\n",
    "                d.control_variate_step(step_size= (skip_probability / learning_rate), xt=avg_x)\n",
    "                # set x_t\n",
    "                d.set_xt(x=avg_x)\n",
    "\n",
    "            x_current = avg_x.copy()\n",
    "            # update the control variate\n",
    "            \n",
    "            if mode == f_diff:\n",
    "                # the value of the function at 'x_current' is the average of the values of the local functions both at 'x_current' and 'x_previous'\n",
    "                x_current_function_value = np.mean([d.local_function(x_current=x_current) for d in local_devices])\n",
    "                x_previous_function_value = np.mean([d.local_function(x_current=x_previous) for d in local_devices])    \n",
    "                diff = f_difference(x_current_function_value, x_previous_function_value)\n",
    "            \n",
    "            elif mode == x_diff:\n",
    "                diff = x_difference(x_current, x_previous)\n",
    "            \n",
    "            elif mode == normalized_criterion:\n",
    "                # calculate the gradient at 'x_current' which is already calculated\n",
    "                local_grads_x0 = np.concatenate([d.local_grad(x_current=x_0) for d in local_devices], axis=1)\n",
    "                x0_grad = np.mean(local_grads_x0, axis=1).reshape(-1, 1)\n",
    "\n",
    "                local_grads_x0 = np.concatenate([d.local_grad(x_current=x_current) for d in local_devices], axis=1)\n",
    "                current_grad = np.mean(local_grads_x0, axis=1).reshape(-1, 1)\n",
    "                \n",
    "                diff = norm(current_grad) / norm(x0_grad)\n",
    "            \n",
    "            elif mode == x_opt_diff: \n",
    "                diff = norm(x_current - x_sol, ord=2)\n",
    "            \n",
    "            else: \n",
    "                # the last case is where the criterion is passed as an argument\n",
    "                diff = mode(x_current)\n",
    "\n",
    "            criterion_history.append(diff)\n",
    "            # add 'x_current' to the history\n",
    "            x_history.append(x_current)\n",
    "                \n",
    "            if diff <= eps: \n",
    "                break\n",
    "\n",
    "    return  (x_history, criterion_history) if return_history else x_history[-1]"
   ]
  },
  {
   "cell_type": "code",
   "execution_count": 41,
   "metadata": {},
   "outputs": [
    {
     "name": "stderr",
     "output_type": "stream",
     "text": [
      "100%|██████████| 200/200 [00:35<00:00,  5.69it/s]\n"
     ]
    }
   ],
   "source": [
    "PROX_SKIP_PROBABILITY = 0.1 # np.sqrt(PROBLEM_LAMBDA / PROBLEM_L)\n",
    "\n",
    "PROX_SKIP_K = int(math.ceil(COMMUNICATION_ROUNDS / PROX_SKIP_PROBABILITY))\n",
    "\n",
    "prox_xpoints, prox_criterions = proxSkipFL(\n",
    "            local_devices=PROXSKIP_DEVICES, \n",
    "            skip_probability=1,#PROX_SKIP_PROBABILITY, \n",
    "            x_0=set_up(), \n",
    "            K=PROX_SKIP_K, \n",
    "            gamma_k=lambda _ : 1 / PROBLEM_L,\n",
    "            mode=CRITERION\n",
    "            )"
   ]
  },
  {
   "cell_type": "code",
   "execution_count": 42,
   "metadata": {},
   "outputs": [
    {
     "data": {
      "text/plain": [
       "0.12206146183164229"
      ]
     },
     "execution_count": 42,
     "metadata": {},
     "output_type": "execute_result"
    }
   ],
   "source": [
    "np.min(prox_criterions)"
   ]
  },
  {
   "cell_type": "code",
   "execution_count": 43,
   "metadata": {},
   "outputs": [
    {
     "data": {
      "image/png": "[encoded data removed]",
      "text/plain": [
       "<Figure size 640x480 with 1 Axes>"
      ]
     },
     "metadata": {},
     "output_type": "display_data"
    }
   ],
   "source": [
    "# plot_iterations(criterions=local_gd_criterions, x_label='communication rounds', y_label='f(x) - f(*)', \n",
    "#                 plot_label='local GD',\n",
    "#                 show=False)\n",
    "\n",
    "plot_iterations(criterions=prox_criterions, x_label='communication rounds', y_label='f(x) - f(*)', \n",
    "                plot_label='Prox Skip',\n",
    "                show=False)\n",
    "\n",
    "plt.legend()\n",
    "plt.title('Prox Skip Vs Local GD')\n",
    "plt.show()"
   ]
  },
  {
   "cell_type": "code",
   "execution_count": null,
   "metadata": {},
   "outputs": [],
   "source": []
  }
 ],
 "metadata": {
  "kernelspec": {
   "display_name": "opt_env",
   "language": "python",
   "name": "python3"
  },
  "language_info": {
   "codemirror_mode": {
    "name": "ipython",
    "version": 3
   },
   "file_extension": ".py",
   "mimetype": "text/x-python",
   "name": "python",
   "nbconvert_exporter": "python",
   "pygments_lexer": "ipython3",
   "version": "3.11.5"
  }
 },
 "nbformat": 4,
 "nbformat_minor": 2
}
